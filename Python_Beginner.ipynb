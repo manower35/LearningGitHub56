{
  "nbformat": 4,
  "nbformat_minor": 0,
  "metadata": {
    "colab": {
      "provenance": [],
      "authorship_tag": "ABX9TyOA2ZIqDQ7EdoZJA4eDCvrc",
      "include_colab_link": true
    },
    "kernelspec": {
      "name": "python3",
      "display_name": "Python 3"
    },
    "language_info": {
      "name": "python"
    }
  },
  "cells": [
    {
      "cell_type": "markdown",
      "metadata": {
        "id": "view-in-github",
        "colab_type": "text"
      },
      "source": [
        "<a href=\"https://colab.research.google.com/github/manower35/LearningGitHub56/blob/main/Python_Beginner.ipynb\" target=\"_parent\"><img src=\"https://colab.research.google.com/assets/colab-badge.svg\" alt=\"Open In Colab\"/></a>"
      ]
    },
    {
      "cell_type": "markdown",
      "source": [
        "Python Basics: variable, string, list"
      ],
      "metadata": {
        "id": "ZYeV2yTyEuYT"
      }
    },
    {
      "cell_type": "code",
      "execution_count": null,
      "metadata": {
        "colab": {
          "base_uri": "https://localhost:8080/"
        },
        "id": "AixvvisjEomt",
        "outputId": "4ad81d58-7a22-4ac0-afae-392ff14af980"
      },
      "outputs": [
        {
          "output_type": "stream",
          "name": "stdout",
          "text": [
            "Hello Python interpreter!\n"
          ]
        }
      ],
      "source": [
        "print(\"Hello Python interpreter!\")"
      ]
    },
    {
      "cell_type": "markdown",
      "source": [
        "Variables and Simple Data Types"
      ],
      "metadata": {
        "id": "vBRoMKYWF8uK"
      }
    },
    {
      "cell_type": "code",
      "source": [
        "print('Hello Python world')"
      ],
      "metadata": {
        "colab": {
          "base_uri": "https://localhost:8080/"
        },
        "id": "EQYAwG6UGFFx",
        "outputId": "f196d573-0cd0-4fbd-c483-c9438d135aae"
      },
      "execution_count": null,
      "outputs": [
        {
          "output_type": "stream",
          "name": "stdout",
          "text": [
            "Hello Python world\n"
          ]
        }
      ]
    },
    {
      "cell_type": "code",
      "source": [
        "message = \"Hellow Python world!\"\n",
        "print(message)\n",
        "message"
      ],
      "metadata": {
        "colab": {
          "base_uri": "https://localhost:8080/",
          "height": 53
        },
        "id": "bhwYGIPEGQgq",
        "outputId": "24d7b208-20d1-40e6-f2f7-f690d13af9c7"
      },
      "execution_count": null,
      "outputs": [
        {
          "output_type": "stream",
          "name": "stdout",
          "text": [
            "Hellow Python world!\n"
          ]
        },
        {
          "output_type": "execute_result",
          "data": {
            "text/plain": [
              "'Hellow Python world!'"
            ],
            "application/vnd.google.colaboratory.intrinsic+json": {
              "type": "string"
            }
          },
          "metadata": {},
          "execution_count": 4
        }
      ]
    },
    {
      "cell_type": "code",
      "source": [
        "name = \"i love you python\"\n",
        "print(name.title())"
      ],
      "metadata": {
        "colab": {
          "base_uri": "https://localhost:8080/"
        },
        "id": "_FyNZf3SGzCZ",
        "outputId": "02206925-83fa-493c-d16d-21209cf244bc"
      },
      "execution_count": null,
      "outputs": [
        {
          "output_type": "stream",
          "name": "stdout",
          "text": [
            "I Love You Python\n"
          ]
        }
      ]
    },
    {
      "cell_type": "code",
      "source": [
        "print(name.lower())\n",
        "print(name.upper())"
      ],
      "metadata": {
        "colab": {
          "base_uri": "https://localhost:8080/"
        },
        "id": "JbBaMm8qHQvx",
        "outputId": "06cdc899-ca1f-4b40-ba3e-af690b60c216"
      },
      "execution_count": null,
      "outputs": [
        {
          "output_type": "stream",
          "name": "stdout",
          "text": [
            "i love you python\n",
            "I LOVE YOU PYTHON\n"
          ]
        }
      ]
    },
    {
      "cell_type": "code",
      "source": [
        "first_name = \"md_manwoer\"\n",
        "last_name = \"hussain\"\n",
        "full_name = f\"{first_name} {last_name}\"\n",
        "print(full_name)"
      ],
      "metadata": {
        "colab": {
          "base_uri": "https://localhost:8080/"
        },
        "id": "ebr_UXOzHrxB",
        "outputId": "ef1bd95d-a078-4a21-8968-e35aef92765e"
      },
      "execution_count": null,
      "outputs": [
        {
          "output_type": "stream",
          "name": "stdout",
          "text": [
            "md_manwoer hussain\n"
          ]
        }
      ]
    },
    {
      "cell_type": "code",
      "source": [
        "message1 = f\"hellow, {full_name.title()}!\"\n",
        "print(message1)\n",
        "message1"
      ],
      "metadata": {
        "colab": {
          "base_uri": "https://localhost:8080/",
          "height": 53
        },
        "id": "e8LLVFRhJCra",
        "outputId": "e589b236-49d1-4d59-d821-0f0e4de6f7fa"
      },
      "execution_count": null,
      "outputs": [
        {
          "output_type": "stream",
          "name": "stdout",
          "text": [
            "hellow, Md_Manwoer Hussain!\n"
          ]
        },
        {
          "output_type": "execute_result",
          "data": {
            "text/plain": [
              "'hellow, Md_Manwoer Hussain!'"
            ],
            "application/vnd.google.colaboratory.intrinsic+json": {
              "type": "string"
            }
          },
          "metadata": {},
          "execution_count": 16
        }
      ]
    },
    {
      "cell_type": "code",
      "source": [
        "full_name = \"{} {}\".format(first_name, last_name)\n",
        "full_name"
      ],
      "metadata": {
        "colab": {
          "base_uri": "https://localhost:8080/",
          "height": 36
        },
        "id": "hSjkPADsKBnj",
        "outputId": "65ce890b-8a9d-4295-a3e3-e5ec6207ee3a"
      },
      "execution_count": null,
      "outputs": [
        {
          "output_type": "execute_result",
          "data": {
            "text/plain": [
              "'md_manwoer hussain'"
            ],
            "application/vnd.google.colaboratory.intrinsic+json": {
              "type": "string"
            }
          },
          "metadata": {},
          "execution_count": 17
        }
      ]
    },
    {
      "cell_type": "code",
      "source": [
        "print(\"python\")"
      ],
      "metadata": {
        "colab": {
          "base_uri": "https://localhost:8080/"
        },
        "id": "5jev_c-5Ktaj",
        "outputId": "ccbcedd6-6356-4bd3-83c4-c9f1bea2dbb0"
      },
      "execution_count": null,
      "outputs": [
        {
          "output_type": "stream",
          "name": "stdout",
          "text": [
            "python\n"
          ]
        }
      ]
    },
    {
      "cell_type": "code",
      "source": [
        "print(\"\\tpython\")"
      ],
      "metadata": {
        "colab": {
          "base_uri": "https://localhost:8080/"
        },
        "id": "ByK-P8pMLG6r",
        "outputId": "2f04af3f-f7f8-4e79-d82a-2ff1330f73bf"
      },
      "execution_count": null,
      "outputs": [
        {
          "output_type": "stream",
          "name": "stdout",
          "text": [
            "\tpython\n"
          ]
        }
      ]
    },
    {
      "cell_type": "code",
      "source": [
        "print(\"language:\\npython\\nc\\njavaScript\")"
      ],
      "metadata": {
        "colab": {
          "base_uri": "https://localhost:8080/"
        },
        "id": "B3VohgBhLnNL",
        "outputId": "06e198c1-38e4-4f6f-dd1d-b65981354398"
      },
      "execution_count": null,
      "outputs": [
        {
          "output_type": "stream",
          "name": "stdout",
          "text": [
            "language:\n",
            "python\n",
            "c\n",
            "javaScript\n"
          ]
        }
      ]
    },
    {
      "cell_type": "code",
      "source": [
        "universe_age = 14_000_000_000\n",
        "print(universe_age)"
      ],
      "metadata": {
        "colab": {
          "base_uri": "https://localhost:8080/"
        },
        "id": "iMpwqCV5L4Sa",
        "outputId": "cd9c5452-2534-449b-d084-b6b52e41d2ad"
      },
      "execution_count": null,
      "outputs": [
        {
          "output_type": "stream",
          "name": "stdout",
          "text": [
            "14000000000\n"
          ]
        }
      ]
    },
    {
      "cell_type": "code",
      "source": [
        "x,y,z = 2,4,7\n",
        "print(x,y,z)\n",
        "x,y,z"
      ],
      "metadata": {
        "colab": {
          "base_uri": "https://localhost:8080/"
        },
        "id": "1dbE8j4zMcmj",
        "outputId": "084615a7-7e24-49b9-aaec-13a116d93988"
      },
      "execution_count": null,
      "outputs": [
        {
          "output_type": "stream",
          "name": "stdout",
          "text": [
            "2 4 7\n"
          ]
        },
        {
          "output_type": "execute_result",
          "data": {
            "text/plain": [
              "(2, 4, 7)"
            ]
          },
          "metadata": {},
          "execution_count": 26
        }
      ]
    },
    {
      "cell_type": "markdown",
      "source": [
        "list"
      ],
      "metadata": {
        "id": "Fhc2S3owNrxU"
      }
    },
    {
      "cell_type": "code",
      "source": [
        "books = ['preface', 'index', 'paragraph', 'lession']\n",
        "print(books)\n",
        "books"
      ],
      "metadata": {
        "colab": {
          "base_uri": "https://localhost:8080/"
        },
        "id": "Y_ViNDKLMnPq",
        "outputId": "8f4018ef-e110-437e-f156-d6e3be9a0e7f"
      },
      "execution_count": null,
      "outputs": [
        {
          "output_type": "stream",
          "name": "stdout",
          "text": [
            "['preface', 'index', 'paragraph', 'lession']\n"
          ]
        },
        {
          "output_type": "execute_result",
          "data": {
            "text/plain": [
              "['preface', 'index', 'paragraph', 'lession']"
            ]
          },
          "metadata": {},
          "execution_count": 32
        }
      ]
    },
    {
      "cell_type": "code",
      "source": [
        "print(books[2].title())"
      ],
      "metadata": {
        "colab": {
          "base_uri": "https://localhost:8080/"
        },
        "id": "OGQUli1NO6LD",
        "outputId": "9d91f50a-a888-4d1f-94b4-9432b2cb5974"
      },
      "execution_count": null,
      "outputs": [
        {
          "output_type": "stream",
          "name": "stdout",
          "text": [
            "Paragraph\n"
          ]
        }
      ]
    },
    {
      "cell_type": "code",
      "source": [
        "print(books[-1])"
      ],
      "metadata": {
        "colab": {
          "base_uri": "https://localhost:8080/"
        },
        "id": "upFerwi3Ppx8",
        "outputId": "85fa27f6-6816-491d-e1df-8be801717019"
      },
      "execution_count": null,
      "outputs": [
        {
          "output_type": "stream",
          "name": "stdout",
          "text": [
            "lession\n"
          ]
        }
      ]
    },
    {
      "cell_type": "code",
      "source": [
        "message3 = f\"when i open my first books was {books[0].title()}.\"\n",
        "print(message3)\n",
        "message3"
      ],
      "metadata": {
        "colab": {
          "base_uri": "https://localhost:8080/",
          "height": 53
        },
        "id": "x3XsaXiVQ2fc",
        "outputId": "887a7d04-1650-4eb3-bd12-6a9a7440f76c"
      },
      "execution_count": null,
      "outputs": [
        {
          "output_type": "stream",
          "name": "stdout",
          "text": [
            "when i open my first books was Preface.\n"
          ]
        },
        {
          "output_type": "execute_result",
          "data": {
            "text/plain": [
              "'when i open my first books was Preface.'"
            ],
            "application/vnd.google.colaboratory.intrinsic+json": {
              "type": "string"
            }
          },
          "metadata": {},
          "execution_count": 41
        }
      ]
    },
    {
      "cell_type": "code",
      "source": [],
      "metadata": {
        "id": "Z5fDjre6XI1W"
      },
      "execution_count": null,
      "outputs": []
    }
  ]
}