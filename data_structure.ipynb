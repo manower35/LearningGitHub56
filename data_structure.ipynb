{
  "nbformat": 4,
  "nbformat_minor": 0,
  "metadata": {
    "colab": {
      "provenance": [],
      "authorship_tag": "ABX9TyMQT+1JyylQQooO+zaTRMzw",
      "include_colab_link": true
    },
    "kernelspec": {
      "name": "python3",
      "display_name": "Python 3"
    },
    "language_info": {
      "name": "python"
    }
  },
  "cells": [
    {
      "cell_type": "markdown",
      "metadata": {
        "id": "view-in-github",
        "colab_type": "text"
      },
      "source": [
        "<a href=\"https://colab.research.google.com/github/manower35/LearningGitHub56/blob/main/data_structure.ipynb\" target=\"_parent\"><img src=\"https://colab.research.google.com/assets/colab-badge.svg\" alt=\"Open In Colab\"/></a>"
      ]
    },
    {
      "cell_type": "code",
      "execution_count": 1,
      "metadata": {
        "colab": {
          "base_uri": "https://localhost:8080/"
        },
        "id": "mdhYR8jFiriQ",
        "outputId": "9fb92849-7c32-44c7-b755-aa1439170f5e"
      },
      "outputs": [
        {
          "output_type": "stream",
          "name": "stdout",
          "text": [
            "['patna', 'katihar', 'delhi', 'hyderabad']\n"
          ]
        }
      ],
      "source": [
        "lists1 = ['patna', 'katihar', 'delhi', 'hyderabad']\n",
        "print(lists1)"
      ]
    },
    {
      "cell_type": "code",
      "source": [
        "lists1.append('mumbai')\n",
        "lists1"
      ],
      "metadata": {
        "colab": {
          "base_uri": "https://localhost:8080/"
        },
        "id": "mkp3DZQAissa",
        "outputId": "427fb3f9-5da8-482a-f968-c80d28f8e3b7"
      },
      "execution_count": 2,
      "outputs": [
        {
          "output_type": "execute_result",
          "data": {
            "text/plain": [
              "['patna', 'katihar', 'delhi', 'hyderabad', 'mumbai']"
            ]
          },
          "metadata": {},
          "execution_count": 2
        }
      ]
    },
    {
      "cell_type": "code",
      "source": [
        "lists1 = []\n",
        "lists1.append('nagpur')\n",
        "lists1.append('delhi')\n",
        "lists1.append('banglore')\n",
        "lists1"
      ],
      "metadata": {
        "colab": {
          "base_uri": "https://localhost:8080/"
        },
        "id": "bydTq6PUjLBC",
        "outputId": "14679560-6a70-48aa-c1fd-2a5ec2c676e7"
      },
      "execution_count": 3,
      "outputs": [
        {
          "output_type": "execute_result",
          "data": {
            "text/plain": [
              "['nagpur', 'delhi', 'banglore']"
            ]
          },
          "metadata": {},
          "execution_count": 3
        }
      ]
    },
    {
      "cell_type": "code",
      "source": [
        "lists1.insert(1, 'cuttack')\n",
        "lists1"
      ],
      "metadata": {
        "colab": {
          "base_uri": "https://localhost:8080/"
        },
        "id": "JVrV2FEyjrOa",
        "outputId": "a86865fa-b28a-495e-8a16-1cd5c1447f34"
      },
      "execution_count": 5,
      "outputs": [
        {
          "output_type": "execute_result",
          "data": {
            "text/plain": [
              "['nagpur', 'cuttack', 'cuttack', 'delhi', 'banglore']"
            ]
          },
          "metadata": {},
          "execution_count": 5
        }
      ]
    },
    {
      "cell_type": "code",
      "source": [
        "del lists1[1]\n",
        "lists1"
      ],
      "metadata": {
        "colab": {
          "base_uri": "https://localhost:8080/"
        },
        "id": "TsWBQNlMj5q5",
        "outputId": "147c04c5-e959-41bc-92b1-e611cbc9b3ee"
      },
      "execution_count": 6,
      "outputs": [
        {
          "output_type": "execute_result",
          "data": {
            "text/plain": [
              "['nagpur', 'cuttack', 'delhi', 'banglore']"
            ]
          },
          "metadata": {},
          "execution_count": 6
        }
      ]
    },
    {
      "cell_type": "code",
      "source": [
        "del lists1[2]\n",
        "lists1"
      ],
      "metadata": {
        "colab": {
          "base_uri": "https://localhost:8080/"
        },
        "id": "nXyiKOQekI9y",
        "outputId": "f1369f81-3b82-4743-93c3-0d54f86ec4e3"
      },
      "execution_count": 7,
      "outputs": [
        {
          "output_type": "execute_result",
          "data": {
            "text/plain": [
              "['nagpur', 'cuttack', 'banglore']"
            ]
          },
          "metadata": {},
          "execution_count": 7
        }
      ]
    },
    {
      "cell_type": "code",
      "source": [
        "lists1.pop()"
      ],
      "metadata": {
        "colab": {
          "base_uri": "https://localhost:8080/",
          "height": 36
        },
        "id": "auM3WTV6kV_S",
        "outputId": "1bd5da61-90ff-401f-9a16-2b11b4932934"
      },
      "execution_count": 8,
      "outputs": [
        {
          "output_type": "execute_result",
          "data": {
            "text/plain": [
              "'banglore'"
            ],
            "application/vnd.google.colaboratory.intrinsic+json": {
              "type": "string"
            }
          },
          "metadata": {},
          "execution_count": 8
        }
      ]
    },
    {
      "cell_type": "markdown",
      "source": [
        "organizing a list"
      ],
      "metadata": {
        "id": "0eepPDrCmotv"
      }
    },
    {
      "cell_type": "code",
      "source": [
        "lists3 = ['book', 'copy', 'zreox', 'pen']\n",
        "lists3.sort()\n",
        "print(lists3)"
      ],
      "metadata": {
        "colab": {
          "base_uri": "https://localhost:8080/"
        },
        "id": "11jDpU9FlB9y",
        "outputId": "91457c36-57ac-4b62-cb8e-5f6642d02822"
      },
      "execution_count": 12,
      "outputs": [
        {
          "output_type": "stream",
          "name": "stdout",
          "text": [
            "['book', 'copy', 'pen', 'zreox']\n"
          ]
        }
      ]
    },
    {
      "cell_type": "code",
      "source": [
        "lists3.sort(reverse=True)\n",
        "print(lists3)"
      ],
      "metadata": {
        "colab": {
          "base_uri": "https://localhost:8080/"
        },
        "id": "33XP6KU_nOtm",
        "outputId": "d73cf84a-56f9-4f74-c180-b966c356b357"
      },
      "execution_count": 13,
      "outputs": [
        {
          "output_type": "stream",
          "name": "stdout",
          "text": [
            "['zreox', 'pen', 'copy', 'book']\n"
          ]
        }
      ]
    },
    {
      "cell_type": "code",
      "source": [
        "len(lists3)"
      ],
      "metadata": {
        "colab": {
          "base_uri": "https://localhost:8080/"
        },
        "id": "RekHFWslni7D",
        "outputId": "721390be-14bc-4aaa-dfea-2e4e048ea3fa"
      },
      "execution_count": 14,
      "outputs": [
        {
          "output_type": "execute_result",
          "data": {
            "text/plain": [
              "4"
            ]
          },
          "metadata": {},
          "execution_count": 14
        }
      ]
    },
    {
      "cell_type": "code",
      "source": [
        "lists4 = ['sohan', 'ram', 'mohan', 'rohan']\n",
        "for lists in lists4:\n",
        "  print(lists)"
      ],
      "metadata": {
        "colab": {
          "base_uri": "https://localhost:8080/"
        },
        "id": "6je67g7hn56a",
        "outputId": "c63f02c6-70dc-46ba-d745-b9c82d84f2b1"
      },
      "execution_count": 15,
      "outputs": [
        {
          "output_type": "stream",
          "name": "stdout",
          "text": [
            "sohan\n",
            "ram\n",
            "mohan\n",
            "rohan\n"
          ]
        }
      ]
    },
    {
      "cell_type": "code",
      "source": [],
      "metadata": {
        "id": "viw1rmo_pBXz"
      },
      "execution_count": null,
      "outputs": []
    }
  ]
}