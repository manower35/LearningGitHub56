{
  "metadata": {
    "kernelspec": {
      "language": "python",
      "display_name": "Python 3",
      "name": "python3"
    },
    "language_info": {
      "name": "python",
      "version": "3.10.13",
      "mimetype": "text/x-python",
      "codemirror_mode": {
        "name": "ipython",
        "version": 3
      },
      "pygments_lexer": "ipython3",
      "nbconvert_exporter": "python",
      "file_extension": ".py"
    },
    "kaggle": {
      "accelerator": "none",
      "dataSources": [],
      "dockerImageVersionId": 30664,
      "isInternetEnabled": false,
      "language": "python",
      "sourceType": "notebook",
      "isGpuEnabled": false
    },
    "colab": {
      "name": "notebook3cd317fd6c",
      "provenance": [],
      "include_colab_link": true
    }
  },
  "nbformat_minor": 0,
  "nbformat": 4,
  "cells": [
    {
      "cell_type": "markdown",
      "metadata": {
        "id": "view-in-github",
        "colab_type": "text"
      },
      "source": [
        "<a href=\"https://colab.research.google.com/github/manower35/LearningGitHub56/blob/main/notebook3cd317fd6c.ipynb\" target=\"_parent\"><img src=\"https://colab.research.google.com/assets/colab-badge.svg\" alt=\"Open In Colab\"/></a>"
      ]
    },
    {
      "cell_type": "code",
      "source": [
        "# This Python 3 environment comes with many helpful analytics libraries installed\n",
        "# It is defined by the kaggle/python Docker image: https://github.com/kaggle/docker-python\n",
        "# For example, here's several helpful packages to load\n",
        "\n",
        "import numpy as np # linear algebra\n",
        "import pandas as pd # data processing, CSV file I/O (e.g. pd.read_csv)\n",
        "\n",
        "# Input data files are available in the read-only \"../input/\" directory\n",
        "# For example, running this (by clicking run or pressing Shift+Enter) will list all files under the input directory\n",
        "\n",
        "import os\n",
        "for dirname, _, filenames in os.walk('/kaggle/input'):\n",
        "    for filename in filenames:\n",
        "        print(os.path.join(dirname, filename))\n",
        "\n",
        "# You can write up to 20GB to the current directory (/kaggle/working/) that gets preserved as output when you create a version using \"Save & Run All\"\n",
        "# You can also write temporary files to /kaggle/temp/, but they won't be saved outside of the current session"
      ],
      "metadata": {
        "_uuid": "8f2839f25d086af736a60e9eeb907d3b93b6e0e5",
        "_cell_guid": "b1076dfc-b9ad-4769-8c92-a6c4dae69d19",
        "trusted": true,
        "id": "7XJy_oh62E6y"
      },
      "execution_count": null,
      "outputs": []
    },
    {
      "cell_type": "markdown",
      "source": [
        "Introducing Lists:\n",
        "A lIST is a collection of items in a particular order."
      ],
      "metadata": {
        "id": "N3QTQi002E66"
      }
    },
    {
      "cell_type": "code",
      "source": [
        "city = (['mumbai', 'delhi', 'kolkata', 'hyderabad'])\n",
        "print(city)\n",
        "city"
      ],
      "metadata": {
        "execution": {
          "iopub.status.busy": "2024-03-11T13:27:21.077006Z",
          "iopub.execute_input": "2024-03-11T13:27:21.077535Z",
          "iopub.status.idle": "2024-03-11T13:27:21.086903Z",
          "shell.execute_reply.started": "2024-03-11T13:27:21.077493Z",
          "shell.execute_reply": "2024-03-11T13:27:21.086043Z"
        },
        "trusted": true,
        "id": "mUgr7fT-2E6-",
        "outputId": "481ae1e7-1f0f-4ee2-debe-661957862fd6"
      },
      "execution_count": null,
      "outputs": [
        {
          "name": "stdout",
          "text": "['mumbai', 'delhi', 'kolkata', 'hyderabad']\n",
          "output_type": "stream"
        },
        {
          "execution_count": 2,
          "output_type": "execute_result",
          "data": {
            "text/plain": "['mumbai', 'delhi', 'kolkata', 'hyderabad']"
          },
          "metadata": {}
        }
      ]
    },
    {
      "cell_type": "code",
      "source": [
        "print(city[1])"
      ],
      "metadata": {
        "execution": {
          "iopub.status.busy": "2024-03-11T13:28:07.157431Z",
          "iopub.execute_input": "2024-03-11T13:28:07.158448Z",
          "iopub.status.idle": "2024-03-11T13:28:07.164587Z",
          "shell.execute_reply.started": "2024-03-11T13:28:07.158408Z",
          "shell.execute_reply": "2024-03-11T13:28:07.163498Z"
        },
        "trusted": true,
        "id": "jlVWMowV2E7A",
        "outputId": "f2ad84f2-f34c-42fe-8499-022b0be89b8f"
      },
      "execution_count": null,
      "outputs": [
        {
          "name": "stdout",
          "text": "delhi\n",
          "output_type": "stream"
        }
      ]
    },
    {
      "cell_type": "code",
      "source": [
        "print(city[2].title())"
      ],
      "metadata": {
        "execution": {
          "iopub.status.busy": "2024-03-11T13:30:55.722116Z",
          "iopub.execute_input": "2024-03-11T13:30:55.722498Z",
          "iopub.status.idle": "2024-03-11T13:30:55.727831Z",
          "shell.execute_reply.started": "2024-03-11T13:30:55.722468Z",
          "shell.execute_reply": "2024-03-11T13:30:55.726722Z"
        },
        "trusted": true,
        "id": "iNy1HVZ42E7B",
        "outputId": "45963255-5ef5-4f67-dae0-4f697994e278"
      },
      "execution_count": null,
      "outputs": [
        {
          "name": "stdout",
          "text": "Kolkata\n",
          "output_type": "stream"
        }
      ]
    },
    {
      "cell_type": "code",
      "source": [
        "print(city[-1])"
      ],
      "metadata": {
        "execution": {
          "iopub.status.busy": "2024-03-11T13:32:13.841862Z",
          "iopub.execute_input": "2024-03-11T13:32:13.842243Z",
          "iopub.status.idle": "2024-03-11T13:32:13.847751Z",
          "shell.execute_reply.started": "2024-03-11T13:32:13.842212Z",
          "shell.execute_reply": "2024-03-11T13:32:13.846886Z"
        },
        "trusted": true,
        "id": "ro0JACXY2E7C",
        "outputId": "aa4f0c11-31cc-4ede-8b80-32287ae33965"
      },
      "execution_count": null,
      "outputs": [
        {
          "name": "stdout",
          "text": "hyderabad\n",
          "output_type": "stream"
        }
      ]
    },
    {
      "cell_type": "markdown",
      "source": [
        "using individual values from a list"
      ],
      "metadata": {
        "id": "db66YDVG2E7D"
      }
    },
    {
      "cell_type": "code",
      "source": [
        "message = f\" the more metro city is a {city[1].title()}.\"\n",
        "print(message)"
      ],
      "metadata": {
        "execution": {
          "iopub.status.busy": "2024-03-11T13:38:40.843164Z",
          "iopub.execute_input": "2024-03-11T13:38:40.843574Z",
          "iopub.status.idle": "2024-03-11T13:38:40.849582Z",
          "shell.execute_reply.started": "2024-03-11T13:38:40.843538Z",
          "shell.execute_reply": "2024-03-11T13:38:40.848459Z"
        },
        "trusted": true,
        "id": "OqRwfoTx2E7E",
        "outputId": "a61c76f7-8be3-4166-c578-6e96305da508"
      },
      "execution_count": null,
      "outputs": [
        {
          "name": "stdout",
          "text": " the more metro city is a Delhi.\n",
          "output_type": "stream"
        }
      ]
    },
    {
      "cell_type": "code",
      "source": [
        "city.append('cuttack')\n",
        "print(city)"
      ],
      "metadata": {
        "execution": {
          "iopub.status.busy": "2024-03-11T13:41:13.919282Z",
          "iopub.execute_input": "2024-03-11T13:41:13.920985Z",
          "iopub.status.idle": "2024-03-11T13:41:13.927876Z",
          "shell.execute_reply.started": "2024-03-11T13:41:13.9209Z",
          "shell.execute_reply": "2024-03-11T13:41:13.926831Z"
        },
        "trusted": true,
        "id": "QG_Qk65a2E7F",
        "outputId": "967d3890-a0e3-48ea-f40a-879c5d0806bd"
      },
      "execution_count": null,
      "outputs": [
        {
          "name": "stdout",
          "text": "['mumbai', 'delhi', 'kolkata', 'hyderabad', 'cuttack']\n",
          "output_type": "stream"
        }
      ]
    },
    {
      "cell_type": "code",
      "source": [
        "city = []\n",
        "city.append('noida')\n",
        "city.append('banaras')\n",
        "city"
      ],
      "metadata": {
        "execution": {
          "iopub.status.busy": "2024-03-11T13:43:25.227057Z",
          "iopub.execute_input": "2024-03-11T13:43:25.227607Z",
          "iopub.status.idle": "2024-03-11T13:43:25.237164Z",
          "shell.execute_reply.started": "2024-03-11T13:43:25.227564Z",
          "shell.execute_reply": "2024-03-11T13:43:25.235872Z"
        },
        "trusted": true,
        "id": "L7qx_l-y2E7G",
        "outputId": "2289bbc2-bcb9-428a-e75d-d3f74e310d9d"
      },
      "execution_count": null,
      "outputs": [
        {
          "execution_count": 15,
          "output_type": "execute_result",
          "data": {
            "text/plain": "['noida', 'banaras']"
          },
          "metadata": {}
        }
      ]
    },
    {
      "cell_type": "code",
      "source": [
        "city.insert(0, 'lucknow')\n",
        "city"
      ],
      "metadata": {
        "execution": {
          "iopub.status.busy": "2024-03-11T13:46:23.302056Z",
          "iopub.execute_input": "2024-03-11T13:46:23.302557Z",
          "iopub.status.idle": "2024-03-11T13:46:23.310885Z",
          "shell.execute_reply.started": "2024-03-11T13:46:23.302519Z",
          "shell.execute_reply": "2024-03-11T13:46:23.309617Z"
        },
        "trusted": true,
        "id": "fLrE6cA12E7H",
        "outputId": "a01be386-97f8-4d10-89c8-a2c3a308c2d8"
      },
      "execution_count": null,
      "outputs": [
        {
          "execution_count": 19,
          "output_type": "execute_result",
          "data": {
            "text/plain": "['lucknow', 'lucknow', 'lucknow', 'noida', 'banaras']"
          },
          "metadata": {}
        }
      ]
    },
    {
      "cell_type": "code",
      "source": [
        "my_list = ['one', 'two', 'three', 'four']\n",
        "my_list.insert(1, 'five')\n",
        "my_list"
      ],
      "metadata": {
        "execution": {
          "iopub.status.busy": "2024-03-11T13:57:00.216851Z",
          "iopub.execute_input": "2024-03-11T13:57:00.217304Z",
          "iopub.status.idle": "2024-03-11T13:57:00.225464Z",
          "shell.execute_reply.started": "2024-03-11T13:57:00.217272Z",
          "shell.execute_reply": "2024-03-11T13:57:00.224266Z"
        },
        "trusted": true,
        "id": "5mLFTE-52E7H",
        "outputId": "b0fef8ac-e3d1-499d-be59-3069e748eaf0"
      },
      "execution_count": null,
      "outputs": [
        {
          "execution_count": 21,
          "output_type": "execute_result",
          "data": {
            "text/plain": "['one', 'five', 'two', 'three', 'four']"
          },
          "metadata": {}
        }
      ]
    },
    {
      "cell_type": "code",
      "source": [
        "my_list = ['one', 'two', 'three', 'four']\n",
        "\n",
        "my_list"
      ],
      "metadata": {
        "execution": {
          "iopub.status.busy": "2024-03-11T13:58:46.291359Z",
          "iopub.execute_input": "2024-03-11T13:58:46.292008Z",
          "iopub.status.idle": "2024-03-11T13:58:46.299781Z",
          "shell.execute_reply.started": "2024-03-11T13:58:46.291976Z",
          "shell.execute_reply": "2024-03-11T13:58:46.298483Z"
        },
        "trusted": true,
        "id": "keLZuFND2E7I",
        "outputId": "af4d5fd7-bbb2-4c84-9195-80061355ac8b"
      },
      "execution_count": null,
      "outputs": [
        {
          "execution_count": 29,
          "output_type": "execute_result",
          "data": {
            "text/plain": "['one', 'five', 'two', 'three', 'four']"
          },
          "metadata": {}
        }
      ]
    },
    {
      "cell_type": "code",
      "source": [
        "my_list.insert(1, 'five')\n",
        "my_list"
      ],
      "metadata": {
        "execution": {
          "iopub.status.busy": "2024-03-11T13:59:30.636943Z",
          "iopub.execute_input": "2024-03-11T13:59:30.637455Z",
          "iopub.status.idle": "2024-03-11T13:59:30.645949Z",
          "shell.execute_reply.started": "2024-03-11T13:59:30.637411Z",
          "shell.execute_reply": "2024-03-11T13:59:30.644765Z"
        },
        "trusted": true,
        "id": "TwdY7LF12E7I",
        "outputId": "533298da-5c3e-4294-8814-fa4016abaae0"
      },
      "execution_count": null,
      "outputs": [
        {
          "execution_count": 30,
          "output_type": "execute_result",
          "data": {
            "text/plain": "['one', 'five', 'five', 'two', 'three', 'four']"
          },
          "metadata": {}
        }
      ]
    },
    {
      "cell_type": "code",
      "source": [
        "del my_list[0]\n",
        "my_list"
      ],
      "metadata": {
        "execution": {
          "iopub.status.busy": "2024-03-11T14:01:20.261768Z",
          "iopub.execute_input": "2024-03-11T14:01:20.262273Z",
          "iopub.status.idle": "2024-03-11T14:01:20.270693Z",
          "shell.execute_reply.started": "2024-03-11T14:01:20.262236Z",
          "shell.execute_reply": "2024-03-11T14:01:20.269472Z"
        },
        "trusted": true,
        "id": "UzLROG6C2E7J",
        "outputId": "48eba558-2505-4cf2-97c1-08eb28a1d727"
      },
      "execution_count": null,
      "outputs": [
        {
          "execution_count": 31,
          "output_type": "execute_result",
          "data": {
            "text/plain": "['five', 'five', 'two', 'three', 'four']"
          },
          "metadata": {}
        }
      ]
    },
    {
      "cell_type": "code",
      "source": [
        "my_list.pop()"
      ],
      "metadata": {
        "execution": {
          "iopub.status.busy": "2024-03-11T14:02:46.716187Z",
          "iopub.execute_input": "2024-03-11T14:02:46.716583Z",
          "iopub.status.idle": "2024-03-11T14:02:46.724298Z",
          "shell.execute_reply.started": "2024-03-11T14:02:46.716553Z",
          "shell.execute_reply": "2024-03-11T14:02:46.723155Z"
        },
        "trusted": true,
        "id": "mOFXIJQg2E7J",
        "outputId": "18dc8a67-4fca-467f-b3a1-69103d427e12"
      },
      "execution_count": null,
      "outputs": [
        {
          "execution_count": 32,
          "output_type": "execute_result",
          "data": {
            "text/plain": "'four'"
          },
          "metadata": {}
        }
      ]
    },
    {
      "cell_type": "code",
      "source": [],
      "metadata": {
        "id": "6EKVXaDD2E7K"
      },
      "execution_count": null,
      "outputs": []
    }
  ]
}